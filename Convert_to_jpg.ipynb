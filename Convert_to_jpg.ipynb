{
 "cells": [
  {
   "cell_type": "code",
   "execution_count": 1,
   "metadata": {},
   "outputs": [
    {
     "name": "stdout",
     "output_type": "stream",
     "text": [
      "Processing folder: A 132302\n",
      "Processing folder: A 132577\n",
      "Processing folder: A 134934\n",
      "Processing folder: A 135347\n",
      "Conversion and file movement complete!\n"
     ]
    }
   ],
   "source": [
    "import os\n",
    "from pdf2image import convert_from_path\n",
    "import shutil\n",
    "\n",
    "main_dir = 'WAMEX_DATA_EXTRACTED'\n",
    "\n",
    "if main_dir:\n",
    "    subfolders = [d for d in os.listdir(main_dir) if os.path.isdir(os.path.join(main_dir, d))]\n",
    "else:\n",
    "    print(\"WAMEX_DATA_EXTRACTED NOT FOUND CHECK DIRECTORY\")\n",
    "\n",
    "def convert_pdf_to_images(pdf_path, output_folder, subfolder_name, file_idx):\n",
    "    \"\"\"\n",
    "    Convert a PDF into images.\n",
    "    :param pdf_path: Path to the PDF file.\n",
    "    :param output_folder: Folder where the images should be saved.\n",
    "    :param subfolder_name: Name of the subfolder.\n",
    "    :param file_idx: Index of the PDF file.\n",
    "    :return: None.\n",
    "    \"\"\"\n",
    "    images = convert_from_path(pdf_path, dpi=300)\n",
    "    for i, image in enumerate(images):\n",
    "        image.save(os.path.join(output_folder, f\"{subfolder_name}_{file_idx + 1}_{i + 1}.jpg\"), 'JPEG')\n",
    "\n",
    "def move_non_jpgs_to_original_folder(folder_path):\n",
    "    \"\"\"\n",
    "    Move non-JPG files to a subfolder named 'Original_files'.\n",
    "    :param folder_path: Path to the folder to check.\n",
    "    :return: None.\n",
    "    \"\"\"\n",
    "    original_files_folder = os.path.join(folder_path, 'Original_files')\n",
    "    if not os.path.exists(original_files_folder):\n",
    "        os.makedirs(original_files_folder)\n",
    "\n",
    "    for filename in os.listdir(folder_path):\n",
    "        if not filename.endswith('.jpg') and not os.path.isdir(os.path.join(folder_path, filename)):\n",
    "            shutil.move(os.path.join(folder_path, filename), os.path.join(original_files_folder, filename))\n",
    "\n",
    "for subfolder in subfolders:\n",
    "    current_folder = os.path.join(main_dir, subfolder)\n",
    "    pdf_files = [f for f in os.listdir(current_folder) if f.endswith('.pdf')]\n",
    "    \n",
    "    print(f\"Processing folder: A {subfolder}\")\n",
    "    \n",
    "    for idx, filename in enumerate(pdf_files):\n",
    "        pdf_path = os.path.join(current_folder, filename)\n",
    "        \n",
    "        # Check the file size\n",
    "        file_size = os.path.getsize(pdf_path)\n",
    "        if file_size > 30 * 1024 * 1024:  # Check if file size is greater than 30MB\n",
    "            print(f\"Skipping file {filename} due to size being greater than 30MB.\")\n",
    "            continue\n",
    "\n",
    "        convert_pdf_to_images(pdf_path, current_folder, subfolder, idx)\n",
    "    \n",
    "    # After converting to JPGs, move non-JPGs to 'Original_files'\n",
    "    move_non_jpgs_to_original_folder(current_folder)\n",
    "\n",
    "print(\"Conversion and file movement complete!\")\n"
   ]
  }
 ],
 "metadata": {
  "kernelspec": {
   "display_name": "Python 3",
   "language": "python",
   "name": "python3"
  },
  "language_info": {
   "codemirror_mode": {
    "name": "ipython",
    "version": 3
   },
   "file_extension": ".py",
   "mimetype": "text/x-python",
   "name": "python",
   "nbconvert_exporter": "python",
   "pygments_lexer": "ipython3",
   "version": "3.9.18"
  }
 },
 "nbformat": 4,
 "nbformat_minor": 2
}
